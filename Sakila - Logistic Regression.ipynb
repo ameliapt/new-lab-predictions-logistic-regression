{
 "cells": [
  {
   "cell_type": "markdown",
   "id": "7bd1fef8",
   "metadata": {},
   "source": [
    "## Sakila - Logistic Regression\n",
    "\n",
    "#### In order to optimize our inventory, we would like to predict if a film will have more monthly rentals in July than in June."
   ]
  },
  {
   "cell_type": "markdown",
   "id": "305d9fe6",
   "metadata": {},
   "source": [
    "First things first: let's import the libraries will need for the exercise and establish our connection with SQL."
   ]
  },
  {
   "cell_type": "code",
   "execution_count": 1,
   "id": "8fd07ae9",
   "metadata": {},
   "outputs": [],
   "source": [
    "import pymysql\n",
    "from sqlalchemy import create_engine\n",
    "import getpass\n",
    "\n",
    "import pandas as pd\n",
    "import numpy as np\n",
    "import matplotlib.pyplot as plt\n",
    "import seaborn as sns\n",
    "\n",
    "from sklearn.preprocessing import MinMaxScaler\n",
    "from sklearn.model_selection import train_test_split\n",
    "from sklearn.linear_model import LogisticRegression\n",
    "from sklearn.metrics import accuracy_score, precision_score, recall_score, f1_score, cohen_kappa_score\n",
    "from sklearn.metrics import confusion_matrix, ConfusionMatrixDisplay"
   ]
  },
  {
   "cell_type": "code",
   "execution_count": 2,
   "id": "148aeebf",
   "metadata": {},
   "outputs": [
    {
     "name": "stdout",
     "output_type": "stream",
     "text": [
      "········\n"
     ]
    }
   ],
   "source": [
    "password = getpass.getpass() # password = 'password'"
   ]
  },
  {
   "cell_type": "code",
   "execution_count": 3,
   "id": "41982532",
   "metadata": {},
   "outputs": [],
   "source": [
    "connection_string = 'mysql+pymysql://root:' + password + '@localhost/sakila'\n",
    "engine = create_engine(connection_string)"
   ]
  },
  {
   "cell_type": "markdown",
   "id": "6275ff92",
   "metadata": {},
   "source": [
    "**1. Create a query or queries to extract the information you think may be relevant for building the prediction model. It should include some film features and some rental features. Use the data from 2005.**"
   ]
  },
  {
   "cell_type": "markdown",
   "id": "7180c280",
   "metadata": {},
   "source": [
    "*In order to build the prediction model and bearing in mind that we want to predict if a film will have more monthly rentals in June than July, we should ask ourselves which features could have more influence over the rental decision. For example:*\n",
    "\n",
    "- Does the film price influence the rental decision? It is likely.\n",
    "- Is the category of the film important? In this case, it could be important as films are an entertainment product and June-July coincides with the summer break.\n",
    "- What else could increase rentals in July? Maybe if there were a recent movie premiere or special discounts for that period, but we don't have that information. \n",
    "\n",
    "*Therefore, for this exercise we're going to get the following columns: rental_rate and film_category.*"
   ]
  },
  {
   "cell_type": "code",
   "execution_count": 4,
   "id": "864bc7ff",
   "metadata": {},
   "outputs": [
    {
     "data": {
      "text/html": [
       "<div>\n",
       "<style scoped>\n",
       "    .dataframe tbody tr th:only-of-type {\n",
       "        vertical-align: middle;\n",
       "    }\n",
       "\n",
       "    .dataframe tbody tr th {\n",
       "        vertical-align: top;\n",
       "    }\n",
       "\n",
       "    .dataframe thead th {\n",
       "        text-align: right;\n",
       "    }\n",
       "</style>\n",
       "<table border=\"1\" class=\"dataframe\">\n",
       "  <thead>\n",
       "    <tr style=\"text-align: right;\">\n",
       "      <th></th>\n",
       "      <th>title</th>\n",
       "      <th>rental_price</th>\n",
       "      <th>film_category</th>\n",
       "    </tr>\n",
       "  </thead>\n",
       "  <tbody>\n",
       "    <tr>\n",
       "      <th>0</th>\n",
       "      <td>ACADEMY DINOSAUR</td>\n",
       "      <td>0.99</td>\n",
       "      <td>Documentary</td>\n",
       "    </tr>\n",
       "    <tr>\n",
       "      <th>1</th>\n",
       "      <td>ACE GOLDFINGER</td>\n",
       "      <td>4.99</td>\n",
       "      <td>Horror</td>\n",
       "    </tr>\n",
       "    <tr>\n",
       "      <th>2</th>\n",
       "      <td>ADAPTATION HOLES</td>\n",
       "      <td>2.99</td>\n",
       "      <td>Documentary</td>\n",
       "    </tr>\n",
       "    <tr>\n",
       "      <th>3</th>\n",
       "      <td>AFFAIR PREJUDICE</td>\n",
       "      <td>2.99</td>\n",
       "      <td>Horror</td>\n",
       "    </tr>\n",
       "    <tr>\n",
       "      <th>4</th>\n",
       "      <td>AFRICAN EGG</td>\n",
       "      <td>2.99</td>\n",
       "      <td>Family</td>\n",
       "    </tr>\n",
       "    <tr>\n",
       "      <th>5</th>\n",
       "      <td>AGENT TRUMAN</td>\n",
       "      <td>2.99</td>\n",
       "      <td>Foreign</td>\n",
       "    </tr>\n",
       "    <tr>\n",
       "      <th>6</th>\n",
       "      <td>AIRPLANE SIERRA</td>\n",
       "      <td>4.99</td>\n",
       "      <td>Comedy</td>\n",
       "    </tr>\n",
       "    <tr>\n",
       "      <th>7</th>\n",
       "      <td>AIRPORT POLLOCK</td>\n",
       "      <td>4.99</td>\n",
       "      <td>Horror</td>\n",
       "    </tr>\n",
       "    <tr>\n",
       "      <th>8</th>\n",
       "      <td>ALABAMA DEVIL</td>\n",
       "      <td>2.99</td>\n",
       "      <td>Horror</td>\n",
       "    </tr>\n",
       "    <tr>\n",
       "      <th>9</th>\n",
       "      <td>ALADDIN CALENDAR</td>\n",
       "      <td>4.99</td>\n",
       "      <td>Sports</td>\n",
       "    </tr>\n",
       "    <tr>\n",
       "      <th>10</th>\n",
       "      <td>ALAMO VIDEOTAPE</td>\n",
       "      <td>0.99</td>\n",
       "      <td>Foreign</td>\n",
       "    </tr>\n",
       "    <tr>\n",
       "      <th>11</th>\n",
       "      <td>ALASKA PHANTOM</td>\n",
       "      <td>0.99</td>\n",
       "      <td>Music</td>\n",
       "    </tr>\n",
       "    <tr>\n",
       "      <th>12</th>\n",
       "      <td>ALI FOREVER</td>\n",
       "      <td>4.99</td>\n",
       "      <td>Horror</td>\n",
       "    </tr>\n",
       "    <tr>\n",
       "      <th>13</th>\n",
       "      <td>ALIEN CENTER</td>\n",
       "      <td>2.99</td>\n",
       "      <td>Foreign</td>\n",
       "    </tr>\n",
       "    <tr>\n",
       "      <th>14</th>\n",
       "      <td>ALLEY EVOLUTION</td>\n",
       "      <td>2.99</td>\n",
       "      <td>Foreign</td>\n",
       "    </tr>\n",
       "    <tr>\n",
       "      <th>15</th>\n",
       "      <td>ALONE TRIP</td>\n",
       "      <td>0.99</td>\n",
       "      <td>Music</td>\n",
       "    </tr>\n",
       "    <tr>\n",
       "      <th>16</th>\n",
       "      <td>ALTER VICTORY</td>\n",
       "      <td>0.99</td>\n",
       "      <td>Animation</td>\n",
       "    </tr>\n",
       "    <tr>\n",
       "      <th>17</th>\n",
       "      <td>AMADEUS HOLY</td>\n",
       "      <td>0.99</td>\n",
       "      <td>Action</td>\n",
       "    </tr>\n",
       "    <tr>\n",
       "      <th>18</th>\n",
       "      <td>AMELIE HELLFIGHTERS</td>\n",
       "      <td>4.99</td>\n",
       "      <td>Music</td>\n",
       "    </tr>\n",
       "    <tr>\n",
       "      <th>19</th>\n",
       "      <td>AMERICAN CIRCUS</td>\n",
       "      <td>4.99</td>\n",
       "      <td>Action</td>\n",
       "    </tr>\n",
       "  </tbody>\n",
       "</table>\n",
       "</div>"
      ],
      "text/plain": [
       "                  title  rental_price film_category\n",
       "0      ACADEMY DINOSAUR          0.99   Documentary\n",
       "1        ACE GOLDFINGER          4.99        Horror\n",
       "2      ADAPTATION HOLES          2.99   Documentary\n",
       "3      AFFAIR PREJUDICE          2.99        Horror\n",
       "4           AFRICAN EGG          2.99        Family\n",
       "5          AGENT TRUMAN          2.99       Foreign\n",
       "6       AIRPLANE SIERRA          4.99        Comedy\n",
       "7       AIRPORT POLLOCK          4.99        Horror\n",
       "8         ALABAMA DEVIL          2.99        Horror\n",
       "9      ALADDIN CALENDAR          4.99        Sports\n",
       "10      ALAMO VIDEOTAPE          0.99       Foreign\n",
       "11       ALASKA PHANTOM          0.99         Music\n",
       "12          ALI FOREVER          4.99        Horror\n",
       "13         ALIEN CENTER          2.99       Foreign\n",
       "14      ALLEY EVOLUTION          2.99       Foreign\n",
       "15           ALONE TRIP          0.99         Music\n",
       "16        ALTER VICTORY          0.99     Animation\n",
       "17         AMADEUS HOLY          0.99        Action\n",
       "18  AMELIE HELLFIGHTERS          4.99         Music\n",
       "19      AMERICAN CIRCUS          4.99        Action"
      ]
     },
     "execution_count": 4,
     "metadata": {},
     "output_type": "execute_result"
    }
   ],
   "source": [
    "# Let's query over the period we're interested in: June and July.\n",
    "\n",
    "query = \"\"\"\n",
    "SELECT \n",
    "    f.title as title,\n",
    "    f.rental_rate as rental_price,\n",
    "    c.name as film_category\n",
    "FROM rental AS r\n",
    "LEFT JOIN payment AS p\n",
    "ON r.rental_id = p.rental_id\n",
    "LEFT JOIN inventory as i\n",
    "ON r.inventory_id = i.inventory_id\n",
    "LEFT JOIN film as f\n",
    "ON i.film_id = f.film_id\n",
    "LEFT JOIN film_category as fc\n",
    "ON f.film_id = fc.film_id\n",
    "LEFT JOIN category as c\n",
    "ON fc.category_id = c.category_id\n",
    "WHERE rental_date < '2006-01-01 00:00:00'\n",
    "GROUP BY title\n",
    "ORDER BY title ASC;\n",
    "\"\"\"\n",
    "\n",
    "sakila_df = pd.read_sql(query, engine)\n",
    "sakila_df.head(20)"
   ]
  },
  {
   "cell_type": "markdown",
   "id": "9df9c982",
   "metadata": {},
   "source": [
    "2. Create a query to get the total amount of rentals in June for each film."
   ]
  },
  {
   "cell_type": "code",
   "execution_count": 5,
   "id": "0c240de1",
   "metadata": {},
   "outputs": [
    {
     "data": {
      "text/html": [
       "<div>\n",
       "<style scoped>\n",
       "    .dataframe tbody tr th:only-of-type {\n",
       "        vertical-align: middle;\n",
       "    }\n",
       "\n",
       "    .dataframe tbody tr th {\n",
       "        vertical-align: top;\n",
       "    }\n",
       "\n",
       "    .dataframe thead th {\n",
       "        text-align: right;\n",
       "    }\n",
       "</style>\n",
       "<table border=\"1\" class=\"dataframe\">\n",
       "  <thead>\n",
       "    <tr style=\"text-align: right;\">\n",
       "      <th></th>\n",
       "      <th>title</th>\n",
       "      <th>num_rentals_june</th>\n",
       "    </tr>\n",
       "  </thead>\n",
       "  <tbody>\n",
       "    <tr>\n",
       "      <th>0</th>\n",
       "      <td>WON DARES</td>\n",
       "      <td>1</td>\n",
       "    </tr>\n",
       "    <tr>\n",
       "      <th>1</th>\n",
       "      <td>JEKYLL FROGMEN</td>\n",
       "      <td>1</td>\n",
       "    </tr>\n",
       "    <tr>\n",
       "      <th>2</th>\n",
       "      <td>PARK CITIZEN</td>\n",
       "      <td>1</td>\n",
       "    </tr>\n",
       "    <tr>\n",
       "      <th>3</th>\n",
       "      <td>STAR OPERATION</td>\n",
       "      <td>1</td>\n",
       "    </tr>\n",
       "    <tr>\n",
       "      <th>4</th>\n",
       "      <td>TEMPLE ATTRACTION</td>\n",
       "      <td>1</td>\n",
       "    </tr>\n",
       "    <tr>\n",
       "      <th>5</th>\n",
       "      <td>RAGING AIRPLANE</td>\n",
       "      <td>1</td>\n",
       "    </tr>\n",
       "    <tr>\n",
       "      <th>6</th>\n",
       "      <td>WILD APOLLO</td>\n",
       "      <td>1</td>\n",
       "    </tr>\n",
       "    <tr>\n",
       "      <th>7</th>\n",
       "      <td>UNFAITHFUL KILL</td>\n",
       "      <td>1</td>\n",
       "    </tr>\n",
       "    <tr>\n",
       "      <th>8</th>\n",
       "      <td>NUTS TIES</td>\n",
       "      <td>1</td>\n",
       "    </tr>\n",
       "    <tr>\n",
       "      <th>9</th>\n",
       "      <td>TRAINSPOTTING STRANGERS</td>\n",
       "      <td>1</td>\n",
       "    </tr>\n",
       "  </tbody>\n",
       "</table>\n",
       "</div>"
      ],
      "text/plain": [
       "                     title  num_rentals_june\n",
       "0                WON DARES                 1\n",
       "1           JEKYLL FROGMEN                 1\n",
       "2             PARK CITIZEN                 1\n",
       "3           STAR OPERATION                 1\n",
       "4        TEMPLE ATTRACTION                 1\n",
       "5          RAGING AIRPLANE                 1\n",
       "6              WILD APOLLO                 1\n",
       "7          UNFAITHFUL KILL                 1\n",
       "8                NUTS TIES                 1\n",
       "9  TRAINSPOTTING STRANGERS                 1"
      ]
     },
     "execution_count": 5,
     "metadata": {},
     "output_type": "execute_result"
    }
   ],
   "source": [
    "query_june = \"\"\"\n",
    "SELECT\n",
    "    title,\n",
    "    count(film_id) as num_rentals_june\n",
    "FROM (\n",
    "    SELECT \n",
    "        r.rental_id,\n",
    "        r.rental_date,\n",
    "        r.inventory_id,\n",
    "        r.customer_id,\n",
    "        i.film_id,\n",
    "        f.title\n",
    "    FROM rental as r\n",
    "    LEFT JOIN inventory as i\n",
    "    ON r.inventory_id = i.inventory_id\n",
    "    LEFT JOIN film as f\n",
    "    ON i.film_id = f.film_id\n",
    "    WHERE rental_date BETWEEN '2005-06-01 00:00:00' AND '2005-06-30 23:59:59'\n",
    "    ) as subq\n",
    "GROUP BY title\n",
    "ORDER BY num_rentals_june ASC;\"\"\"\n",
    "\n",
    "june_df = pd.read_sql(query_june, engine)\n",
    "june_df.head(10)"
   ]
  },
  {
   "cell_type": "markdown",
   "id": "63130ab0",
   "metadata": {},
   "source": [
    "3. Do the same with July."
   ]
  },
  {
   "cell_type": "code",
   "execution_count": 6,
   "id": "c2f9b5fb",
   "metadata": {},
   "outputs": [
    {
     "data": {
      "text/html": [
       "<div>\n",
       "<style scoped>\n",
       "    .dataframe tbody tr th:only-of-type {\n",
       "        vertical-align: middle;\n",
       "    }\n",
       "\n",
       "    .dataframe tbody tr th {\n",
       "        vertical-align: top;\n",
       "    }\n",
       "\n",
       "    .dataframe thead th {\n",
       "        text-align: right;\n",
       "    }\n",
       "</style>\n",
       "<table border=\"1\" class=\"dataframe\">\n",
       "  <thead>\n",
       "    <tr style=\"text-align: right;\">\n",
       "      <th></th>\n",
       "      <th>title</th>\n",
       "      <th>num_rentals_july</th>\n",
       "    </tr>\n",
       "  </thead>\n",
       "  <tbody>\n",
       "    <tr>\n",
       "      <th>0</th>\n",
       "      <td>SCALAWAG DUCK</td>\n",
       "      <td>16</td>\n",
       "    </tr>\n",
       "    <tr>\n",
       "      <th>1</th>\n",
       "      <td>GREATEST NORTH</td>\n",
       "      <td>15</td>\n",
       "    </tr>\n",
       "    <tr>\n",
       "      <th>2</th>\n",
       "      <td>PRIMARY GLASS</td>\n",
       "      <td>15</td>\n",
       "    </tr>\n",
       "    <tr>\n",
       "      <th>3</th>\n",
       "      <td>LOSE INCH</td>\n",
       "      <td>14</td>\n",
       "    </tr>\n",
       "    <tr>\n",
       "      <th>4</th>\n",
       "      <td>HARRY IDAHO</td>\n",
       "      <td>14</td>\n",
       "    </tr>\n",
       "  </tbody>\n",
       "</table>\n",
       "</div>"
      ],
      "text/plain": [
       "            title  num_rentals_july\n",
       "0   SCALAWAG DUCK                16\n",
       "1  GREATEST NORTH                15\n",
       "2   PRIMARY GLASS                15\n",
       "3       LOSE INCH                14\n",
       "4     HARRY IDAHO                14"
      ]
     },
     "execution_count": 6,
     "metadata": {},
     "output_type": "execute_result"
    }
   ],
   "source": [
    "query_july = \"\"\"\n",
    "SELECT\n",
    "    title,\n",
    "    count(film_id) as num_rentals_july\n",
    "FROM (\n",
    "    SELECT \n",
    "        r.rental_id,\n",
    "        r.rental_date,\n",
    "        r.inventory_id,\n",
    "        r.customer_id,\n",
    "        i.film_id,\n",
    "        f.title\n",
    "    FROM rental as r\n",
    "    LEFT JOIN inventory as i\n",
    "    ON r.inventory_id = i.inventory_id\n",
    "    LEFT JOIN film as f\n",
    "    ON i.film_id = f.film_id\n",
    "    WHERE rental_date BETWEEN '2005-07-01 00:00:00' AND '2005-07-31 23:59:59'\n",
    "    ) as subq\n",
    "GROUP BY film_id\n",
    "ORDER BY num_rentals_july DESC;\"\"\"\n",
    "\n",
    "july_df = pd.read_sql(query_july, engine)\n",
    "july_df.head()"
   ]
  },
  {
   "cell_type": "code",
   "execution_count": 7,
   "id": "9dbf3b0f",
   "metadata": {
    "scrolled": false
   },
   "outputs": [
    {
     "name": "stdout",
     "output_type": "stream",
     "text": [
      "Sakilas df shape: (958, 3)\n",
      "June rentals df shape: (900, 2)\n",
      "July rentals df shape: (958, 2)\n"
     ]
    }
   ],
   "source": [
    "print('Sakilas df shape:', sakila_df.shape)\n",
    "print('June rentals df shape:', june_df.shape)\n",
    "print('July rentals df shape:', july_df.shape)"
   ]
  },
  {
   "cell_type": "markdown",
   "id": "b1702852",
   "metadata": {},
   "source": [
    "*Let's concatenate the three data frames to operate over one single data frame later on.*"
   ]
  },
  {
   "cell_type": "code",
   "execution_count": 8,
   "id": "75b8cf1f",
   "metadata": {},
   "outputs": [
    {
     "name": "stdout",
     "output_type": "stream",
     "text": [
      "Rentals df shape: (958, 5)\n"
     ]
    },
    {
     "data": {
      "text/html": [
       "<div>\n",
       "<style scoped>\n",
       "    .dataframe tbody tr th:only-of-type {\n",
       "        vertical-align: middle;\n",
       "    }\n",
       "\n",
       "    .dataframe tbody tr th {\n",
       "        vertical-align: top;\n",
       "    }\n",
       "\n",
       "    .dataframe thead th {\n",
       "        text-align: right;\n",
       "    }\n",
       "</style>\n",
       "<table border=\"1\" class=\"dataframe\">\n",
       "  <thead>\n",
       "    <tr style=\"text-align: right;\">\n",
       "      <th></th>\n",
       "      <th>title</th>\n",
       "      <th>rental_price</th>\n",
       "      <th>film_category</th>\n",
       "      <th>num_rentals_june</th>\n",
       "      <th>num_rentals_july</th>\n",
       "    </tr>\n",
       "  </thead>\n",
       "  <tbody>\n",
       "    <tr>\n",
       "      <th>0</th>\n",
       "      <td>ACADEMY DINOSAUR</td>\n",
       "      <td>0.99</td>\n",
       "      <td>Documentary</td>\n",
       "      <td>3.0</td>\n",
       "      <td>9</td>\n",
       "    </tr>\n",
       "    <tr>\n",
       "      <th>1</th>\n",
       "      <td>ACE GOLDFINGER</td>\n",
       "      <td>4.99</td>\n",
       "      <td>Horror</td>\n",
       "      <td>NaN</td>\n",
       "      <td>2</td>\n",
       "    </tr>\n",
       "    <tr>\n",
       "      <th>2</th>\n",
       "      <td>ADAPTATION HOLES</td>\n",
       "      <td>2.99</td>\n",
       "      <td>Documentary</td>\n",
       "      <td>1.0</td>\n",
       "      <td>4</td>\n",
       "    </tr>\n",
       "    <tr>\n",
       "      <th>3</th>\n",
       "      <td>AFFAIR PREJUDICE</td>\n",
       "      <td>2.99</td>\n",
       "      <td>Horror</td>\n",
       "      <td>2.0</td>\n",
       "      <td>12</td>\n",
       "    </tr>\n",
       "    <tr>\n",
       "      <th>4</th>\n",
       "      <td>AFRICAN EGG</td>\n",
       "      <td>2.99</td>\n",
       "      <td>Family</td>\n",
       "      <td>2.0</td>\n",
       "      <td>5</td>\n",
       "    </tr>\n",
       "  </tbody>\n",
       "</table>\n",
       "</div>"
      ],
      "text/plain": [
       "              title  rental_price film_category  num_rentals_june  \\\n",
       "0  ACADEMY DINOSAUR          0.99   Documentary               3.0   \n",
       "1    ACE GOLDFINGER          4.99        Horror               NaN   \n",
       "2  ADAPTATION HOLES          2.99   Documentary               1.0   \n",
       "3  AFFAIR PREJUDICE          2.99        Horror               2.0   \n",
       "4       AFRICAN EGG          2.99        Family               2.0   \n",
       "\n",
       "   num_rentals_july  \n",
       "0                 9  \n",
       "1                 2  \n",
       "2                 4  \n",
       "3                12  \n",
       "4                 5  "
      ]
     },
     "execution_count": 8,
     "metadata": {},
     "output_type": "execute_result"
    }
   ],
   "source": [
    "summer_rentals = june_df.merge(july_df, on='title', how='right')\n",
    "rentals_df = sakila_df.merge(summer_rentals, on = 'title', how = 'left')\n",
    "print('Rentals df shape:', rentals_df.shape)\n",
    "rentals_df.head()"
   ]
  },
  {
   "cell_type": "markdown",
   "id": "08b94b25",
   "metadata": {},
   "source": [
    "**4.Create a new column containing (Yes/No) for each film whether or not the number of monthly rentals in July was bigger than in June. Your objective will be to predict this new column.**\n",
    "\n",
    "In order to calculate whether the number of rentals in July is higher that the number of rentals in June, we can convert NaN values into zero. "
   ]
  },
  {
   "cell_type": "code",
   "execution_count": 9,
   "id": "e6a52ab1",
   "metadata": {},
   "outputs": [
    {
     "data": {
      "text/html": [
       "<div>\n",
       "<style scoped>\n",
       "    .dataframe tbody tr th:only-of-type {\n",
       "        vertical-align: middle;\n",
       "    }\n",
       "\n",
       "    .dataframe tbody tr th {\n",
       "        vertical-align: top;\n",
       "    }\n",
       "\n",
       "    .dataframe thead th {\n",
       "        text-align: right;\n",
       "    }\n",
       "</style>\n",
       "<table border=\"1\" class=\"dataframe\">\n",
       "  <thead>\n",
       "    <tr style=\"text-align: right;\">\n",
       "      <th></th>\n",
       "      <th>title</th>\n",
       "      <th>rental_price</th>\n",
       "      <th>film_category</th>\n",
       "      <th>num_rentals_june</th>\n",
       "      <th>num_rentals_july</th>\n",
       "    </tr>\n",
       "  </thead>\n",
       "  <tbody>\n",
       "    <tr>\n",
       "      <th>0</th>\n",
       "      <td>ACADEMY DINOSAUR</td>\n",
       "      <td>0.99</td>\n",
       "      <td>Documentary</td>\n",
       "      <td>3.0</td>\n",
       "      <td>9</td>\n",
       "    </tr>\n",
       "    <tr>\n",
       "      <th>1</th>\n",
       "      <td>ACE GOLDFINGER</td>\n",
       "      <td>4.99</td>\n",
       "      <td>Horror</td>\n",
       "      <td>0.0</td>\n",
       "      <td>2</td>\n",
       "    </tr>\n",
       "    <tr>\n",
       "      <th>2</th>\n",
       "      <td>ADAPTATION HOLES</td>\n",
       "      <td>2.99</td>\n",
       "      <td>Documentary</td>\n",
       "      <td>1.0</td>\n",
       "      <td>4</td>\n",
       "    </tr>\n",
       "    <tr>\n",
       "      <th>3</th>\n",
       "      <td>AFFAIR PREJUDICE</td>\n",
       "      <td>2.99</td>\n",
       "      <td>Horror</td>\n",
       "      <td>2.0</td>\n",
       "      <td>12</td>\n",
       "    </tr>\n",
       "    <tr>\n",
       "      <th>4</th>\n",
       "      <td>AFRICAN EGG</td>\n",
       "      <td>2.99</td>\n",
       "      <td>Family</td>\n",
       "      <td>2.0</td>\n",
       "      <td>5</td>\n",
       "    </tr>\n",
       "  </tbody>\n",
       "</table>\n",
       "</div>"
      ],
      "text/plain": [
       "              title  rental_price film_category  num_rentals_june  \\\n",
       "0  ACADEMY DINOSAUR          0.99   Documentary               3.0   \n",
       "1    ACE GOLDFINGER          4.99        Horror               0.0   \n",
       "2  ADAPTATION HOLES          2.99   Documentary               1.0   \n",
       "3  AFFAIR PREJUDICE          2.99        Horror               2.0   \n",
       "4       AFRICAN EGG          2.99        Family               2.0   \n",
       "\n",
       "   num_rentals_july  \n",
       "0                 9  \n",
       "1                 2  \n",
       "2                 4  \n",
       "3                12  \n",
       "4                 5  "
      ]
     },
     "execution_count": 9,
     "metadata": {},
     "output_type": "execute_result"
    }
   ],
   "source": [
    "rentals_df = rentals_df.fillna(0)\n",
    "rentals_df.head()"
   ]
  },
  {
   "cell_type": "markdown",
   "id": "4073f555",
   "metadata": {},
   "source": [
    "We can also cast num_rentals_june float numbers into integer numbers before adding the new column."
   ]
  },
  {
   "cell_type": "code",
   "execution_count": 10,
   "id": "46ce3898",
   "metadata": {
    "scrolled": true
   },
   "outputs": [
    {
     "data": {
      "text/html": [
       "<div>\n",
       "<style scoped>\n",
       "    .dataframe tbody tr th:only-of-type {\n",
       "        vertical-align: middle;\n",
       "    }\n",
       "\n",
       "    .dataframe tbody tr th {\n",
       "        vertical-align: top;\n",
       "    }\n",
       "\n",
       "    .dataframe thead th {\n",
       "        text-align: right;\n",
       "    }\n",
       "</style>\n",
       "<table border=\"1\" class=\"dataframe\">\n",
       "  <thead>\n",
       "    <tr style=\"text-align: right;\">\n",
       "      <th></th>\n",
       "      <th>title</th>\n",
       "      <th>rental_price</th>\n",
       "      <th>film_category</th>\n",
       "      <th>num_rentals_june</th>\n",
       "      <th>num_rentals_july</th>\n",
       "    </tr>\n",
       "  </thead>\n",
       "  <tbody>\n",
       "    <tr>\n",
       "      <th>0</th>\n",
       "      <td>ACADEMY DINOSAUR</td>\n",
       "      <td>0.99</td>\n",
       "      <td>Documentary</td>\n",
       "      <td>3</td>\n",
       "      <td>9</td>\n",
       "    </tr>\n",
       "    <tr>\n",
       "      <th>1</th>\n",
       "      <td>ACE GOLDFINGER</td>\n",
       "      <td>4.99</td>\n",
       "      <td>Horror</td>\n",
       "      <td>0</td>\n",
       "      <td>2</td>\n",
       "    </tr>\n",
       "    <tr>\n",
       "      <th>2</th>\n",
       "      <td>ADAPTATION HOLES</td>\n",
       "      <td>2.99</td>\n",
       "      <td>Documentary</td>\n",
       "      <td>1</td>\n",
       "      <td>4</td>\n",
       "    </tr>\n",
       "    <tr>\n",
       "      <th>3</th>\n",
       "      <td>AFFAIR PREJUDICE</td>\n",
       "      <td>2.99</td>\n",
       "      <td>Horror</td>\n",
       "      <td>2</td>\n",
       "      <td>12</td>\n",
       "    </tr>\n",
       "    <tr>\n",
       "      <th>4</th>\n",
       "      <td>AFRICAN EGG</td>\n",
       "      <td>2.99</td>\n",
       "      <td>Family</td>\n",
       "      <td>2</td>\n",
       "      <td>5</td>\n",
       "    </tr>\n",
       "  </tbody>\n",
       "</table>\n",
       "</div>"
      ],
      "text/plain": [
       "              title  rental_price film_category  num_rentals_june  \\\n",
       "0  ACADEMY DINOSAUR          0.99   Documentary                 3   \n",
       "1    ACE GOLDFINGER          4.99        Horror                 0   \n",
       "2  ADAPTATION HOLES          2.99   Documentary                 1   \n",
       "3  AFFAIR PREJUDICE          2.99        Horror                 2   \n",
       "4       AFRICAN EGG          2.99        Family                 2   \n",
       "\n",
       "   num_rentals_july  \n",
       "0                 9  \n",
       "1                 2  \n",
       "2                 4  \n",
       "3                12  \n",
       "4                 5  "
      ]
     },
     "execution_count": 10,
     "metadata": {},
     "output_type": "execute_result"
    }
   ],
   "source": [
    "rentals_df['num_rentals_june'] = rentals_df['num_rentals_june'].astype('int')\n",
    "rentals_df.head()"
   ]
  },
  {
   "cell_type": "code",
   "execution_count": 11,
   "id": "7a3bd93e",
   "metadata": {},
   "outputs": [
    {
     "data": {
      "text/html": [
       "<div>\n",
       "<style scoped>\n",
       "    .dataframe tbody tr th:only-of-type {\n",
       "        vertical-align: middle;\n",
       "    }\n",
       "\n",
       "    .dataframe tbody tr th {\n",
       "        vertical-align: top;\n",
       "    }\n",
       "\n",
       "    .dataframe thead th {\n",
       "        text-align: right;\n",
       "    }\n",
       "</style>\n",
       "<table border=\"1\" class=\"dataframe\">\n",
       "  <thead>\n",
       "    <tr style=\"text-align: right;\">\n",
       "      <th></th>\n",
       "      <th>title</th>\n",
       "      <th>rental_price</th>\n",
       "      <th>film_category</th>\n",
       "      <th>num_rentals_june</th>\n",
       "      <th>num_rentals_july</th>\n",
       "      <th>more_rentals_in_july</th>\n",
       "    </tr>\n",
       "  </thead>\n",
       "  <tbody>\n",
       "    <tr>\n",
       "      <th>0</th>\n",
       "      <td>ACADEMY DINOSAUR</td>\n",
       "      <td>0.99</td>\n",
       "      <td>Documentary</td>\n",
       "      <td>3</td>\n",
       "      <td>9</td>\n",
       "      <td>Yes</td>\n",
       "    </tr>\n",
       "    <tr>\n",
       "      <th>1</th>\n",
       "      <td>ACE GOLDFINGER</td>\n",
       "      <td>4.99</td>\n",
       "      <td>Horror</td>\n",
       "      <td>0</td>\n",
       "      <td>2</td>\n",
       "      <td>Yes</td>\n",
       "    </tr>\n",
       "    <tr>\n",
       "      <th>2</th>\n",
       "      <td>ADAPTATION HOLES</td>\n",
       "      <td>2.99</td>\n",
       "      <td>Documentary</td>\n",
       "      <td>1</td>\n",
       "      <td>4</td>\n",
       "      <td>Yes</td>\n",
       "    </tr>\n",
       "    <tr>\n",
       "      <th>3</th>\n",
       "      <td>AFFAIR PREJUDICE</td>\n",
       "      <td>2.99</td>\n",
       "      <td>Horror</td>\n",
       "      <td>2</td>\n",
       "      <td>12</td>\n",
       "      <td>Yes</td>\n",
       "    </tr>\n",
       "    <tr>\n",
       "      <th>4</th>\n",
       "      <td>AFRICAN EGG</td>\n",
       "      <td>2.99</td>\n",
       "      <td>Family</td>\n",
       "      <td>2</td>\n",
       "      <td>5</td>\n",
       "      <td>Yes</td>\n",
       "    </tr>\n",
       "  </tbody>\n",
       "</table>\n",
       "</div>"
      ],
      "text/plain": [
       "              title  rental_price film_category  num_rentals_june  \\\n",
       "0  ACADEMY DINOSAUR          0.99   Documentary                 3   \n",
       "1    ACE GOLDFINGER          4.99        Horror                 0   \n",
       "2  ADAPTATION HOLES          2.99   Documentary                 1   \n",
       "3  AFFAIR PREJUDICE          2.99        Horror                 2   \n",
       "4       AFRICAN EGG          2.99        Family                 2   \n",
       "\n",
       "   num_rentals_july more_rentals_in_july  \n",
       "0                 9                  Yes  \n",
       "1                 2                  Yes  \n",
       "2                 4                  Yes  \n",
       "3                12                  Yes  \n",
       "4                 5                  Yes  "
      ]
     },
     "execution_count": 11,
     "metadata": {},
     "output_type": "execute_result"
    }
   ],
   "source": [
    "def higher_rentals(row):\n",
    "    if (row['num_rentals_june'] < row['num_rentals_july']):\n",
    "        return 'Yes'\n",
    "    else:\n",
    "        return 'No'\n",
    "\n",
    "rentals_df['more_rentals_in_july'] = rentals_df.apply(higher_rentals, axis=1)\n",
    "rentals_df.head()"
   ]
  },
  {
   "cell_type": "code",
   "execution_count": 12,
   "id": "92fc1e5b",
   "metadata": {},
   "outputs": [
    {
     "data": {
      "text/plain": [
       "title                    object\n",
       "rental_price            float64\n",
       "film_category            object\n",
       "num_rentals_june          int32\n",
       "num_rentals_july          int64\n",
       "more_rentals_in_july     object\n",
       "dtype: object"
      ]
     },
     "execution_count": 12,
     "metadata": {},
     "output_type": "execute_result"
    }
   ],
   "source": [
    "# Checking data types\n",
    "rentals_df.dtypes"
   ]
  },
  {
   "cell_type": "code",
   "execution_count": 13,
   "id": "59a62b5d",
   "metadata": {},
   "outputs": [
    {
     "data": {
      "text/plain": [
       "title                   0\n",
       "rental_price            0\n",
       "film_category           0\n",
       "num_rentals_june        0\n",
       "num_rentals_july        0\n",
       "more_rentals_in_july    0\n",
       "dtype: int64"
      ]
     },
     "execution_count": 13,
     "metadata": {},
     "output_type": "execute_result"
    }
   ],
   "source": [
    "# Checking nan values\n",
    "rentals_df.isna().sum()"
   ]
  },
  {
   "cell_type": "markdown",
   "id": "8bd305df",
   "metadata": {},
   "source": [
    "*We can also get unique values of our data and check class imbalance for the class we are trying to predict.*"
   ]
  },
  {
   "cell_type": "code",
   "execution_count": 14,
   "id": "e5bf6e5b",
   "metadata": {},
   "outputs": [
    {
     "name": "stdout",
     "output_type": "stream",
     "text": [
      "['Yes' 'No']\n",
      "Yes    952\n",
      "No       6\n",
      "Name: more_rentals_in_july, dtype: int64\n"
     ]
    },
    {
     "data": {
      "image/png": "[encoded data removed]",
      "text/plain": [
       "<Figure size 360x360 with 1 Axes>"
      ]
     },
     "metadata": {
      "needs_background": "light"
     },
     "output_type": "display_data"
    }
   ],
   "source": [
    "# Class imbalance on the column we want to predict is more than evident, \n",
    "# we have 99% of data labeled as 'Yes'. \n",
    "print(rentals_df['more_rentals_in_july'].unique())\n",
    "print(rentals_df['more_rentals_in_july'].value_counts())\n",
    "\n",
    "sns.displot(x = 'more_rentals_in_july', data = rentals_df)\n",
    "plt.show()"
   ]
  },
  {
   "cell_type": "markdown",
   "id": "4b5bdda5",
   "metadata": {},
   "source": [
    "**5. Analyze extracted features and transform them. You may need to encode some categorical variables or scale numerical variables.**\n",
    "\n",
    "*When analyzing our extracted features, we have observed that rental_price data type could be considered categorical.*"
   ]
  },
  {
   "cell_type": "code",
   "execution_count": 15,
   "id": "b71be7b9",
   "metadata": {},
   "outputs": [
    {
     "name": "stdout",
     "output_type": "stream",
     "text": [
      "title                   object\n",
      "rental_price            object\n",
      "film_category           object\n",
      "num_rentals_june         int32\n",
      "num_rentals_july         int64\n",
      "more_rentals_in_july    object\n",
      "dtype: object\n"
     ]
    }
   ],
   "source": [
    "rentals_df['rental_price'] = rentals_df['rental_price'].astype('object') \n",
    "print(rentals_df.dtypes)"
   ]
  },
  {
   "cell_type": "code",
   "execution_count": 16,
   "id": "735967ce",
   "metadata": {},
   "outputs": [
    {
     "data": {
      "image/png": "[encoded data removed]",
      "text/plain": [
       "<Figure size 720x576 with 2 Axes>"
      ]
     },
     "metadata": {
      "needs_background": "light"
     },
     "output_type": "display_data"
    }
   ],
   "source": [
    "# Looking for multicolinearity in numerical data: one seems to be higly correlated \n",
    "# to the other one.\n",
    "corr_matrix = rentals_df.corr()\n",
    "fig, ax = plt.subplots(figsize=(10, 8))\n",
    "ax = sns.heatmap(corr_matrix, annot=True)\n",
    "plt.show()"
   ]
  },
  {
   "cell_type": "code",
   "execution_count": 17,
   "id": "6a320bb0",
   "metadata": {},
   "outputs": [
    {
     "data": {
      "image/png": "[encoded data removed]",
      "text/plain": [
       "<Figure size 360x360 with 1 Axes>"
      ]
     },
     "metadata": {
      "needs_background": "light"
     },
     "output_type": "display_data"
    },
    {
     "data": {
      "image/png": "[encoded data removed]",
      "text/plain": [
       "<Figure size 360x360 with 1 Axes>"
      ]
     },
     "metadata": {
      "needs_background": "light"
     },
     "output_type": "display_data"
    }
   ],
   "source": [
    "# Now let's take a look at the scale and distribution of values\n",
    "sns.displot(rentals_df['num_rentals_june'])\n",
    "sns.displot(rentals_df['num_rentals_july'])\n",
    "plt.show()"
   ]
  },
  {
   "cell_type": "markdown",
   "id": "606e8c7e",
   "metadata": {},
   "source": [
    "6. Create a logistic regression model to predict this new column from the cleaned data."
   ]
  },
  {
   "cell_type": "code",
   "execution_count": 18,
   "id": "eeab5d9d",
   "metadata": {},
   "outputs": [],
   "source": [
    "# First step: X-y split\n",
    "y = rentals_df['more_rentals_in_july']\n",
    "\n",
    "# Dropping name films as it is not relevant for the model\n",
    "X = rentals_df.drop(['title', 'more_rentals_in_july'], axis=1) "
   ]
  },
  {
   "cell_type": "code",
   "execution_count": 19,
   "id": "d5d6754d",
   "metadata": {},
   "outputs": [],
   "source": [
    "# Second step: Train-test-split\n",
    "X_train, X_test, y_train, y_test = train_test_split(X, y, \n",
    "                                                    test_size=0.3, \n",
    "                                                    random_state= 42)"
   ]
  },
  {
   "cell_type": "markdown",
   "id": "3dd8c384",
   "metadata": {},
   "source": [
    "Once we have split our data, we can encode and/or apply transformers if necessary."
   ]
  },
  {
   "cell_type": "markdown",
   "id": "ac3e61a5",
   "metadata": {},
   "source": [
    "*Select and scale numeric train set data using MinMaxScaler*"
   ]
  },
  {
   "cell_type": "code",
   "execution_count": 20,
   "id": "c74414ef",
   "metadata": {},
   "outputs": [
    {
     "data": {
      "text/html": [
       "<div>\n",
       "<style scoped>\n",
       "    .dataframe tbody tr th:only-of-type {\n",
       "        vertical-align: middle;\n",
       "    }\n",
       "\n",
       "    .dataframe tbody tr th {\n",
       "        vertical-align: top;\n",
       "    }\n",
       "\n",
       "    .dataframe thead th {\n",
       "        text-align: right;\n",
       "    }\n",
       "</style>\n",
       "<table border=\"1\" class=\"dataframe\">\n",
       "  <thead>\n",
       "    <tr style=\"text-align: right;\">\n",
       "      <th></th>\n",
       "      <th>num_rentals_june</th>\n",
       "      <th>num_rentals_july</th>\n",
       "    </tr>\n",
       "  </thead>\n",
       "  <tbody>\n",
       "    <tr>\n",
       "      <th>0</th>\n",
       "      <td>0.571429</td>\n",
       "      <td>0.600000</td>\n",
       "    </tr>\n",
       "    <tr>\n",
       "      <th>1</th>\n",
       "      <td>0.142857</td>\n",
       "      <td>0.133333</td>\n",
       "    </tr>\n",
       "    <tr>\n",
       "      <th>2</th>\n",
       "      <td>0.428571</td>\n",
       "      <td>0.333333</td>\n",
       "    </tr>\n",
       "    <tr>\n",
       "      <th>3</th>\n",
       "      <td>0.428571</td>\n",
       "      <td>0.266667</td>\n",
       "    </tr>\n",
       "    <tr>\n",
       "      <th>4</th>\n",
       "      <td>0.428571</td>\n",
       "      <td>0.466667</td>\n",
       "    </tr>\n",
       "  </tbody>\n",
       "</table>\n",
       "</div>"
      ],
      "text/plain": [
       "   num_rentals_june  num_rentals_july\n",
       "0          0.571429          0.600000\n",
       "1          0.142857          0.133333\n",
       "2          0.428571          0.333333\n",
       "3          0.428571          0.266667\n",
       "4          0.428571          0.466667"
      ]
     },
     "execution_count": 20,
     "metadata": {},
     "output_type": "execute_result"
    }
   ],
   "source": [
    "# Selecting numerical data from train sample\n",
    "X_train_num = X_train.select_dtypes(include = np.number)\n",
    "\n",
    "# Initializing and applying MinMaxScaler transformer\n",
    "transformer = MinMaxScaler().fit(X_train_num)\n",
    "X_train_normalized = transformer.transform(X_train_num)\n",
    "X_train_norm = pd.DataFrame(X_train_normalized, columns = X_train_num.columns)\n",
    "X_train_norm.head()"
   ]
  },
  {
   "cell_type": "markdown",
   "id": "3d4bfff9",
   "metadata": {},
   "source": [
    "*Select and scale numeric test set data using MinMaxScaler*"
   ]
  },
  {
   "cell_type": "code",
   "execution_count": 21,
   "id": "d68c32c2",
   "metadata": {},
   "outputs": [
    {
     "data": {
      "text/html": [
       "<div>\n",
       "<style scoped>\n",
       "    .dataframe tbody tr th:only-of-type {\n",
       "        vertical-align: middle;\n",
       "    }\n",
       "\n",
       "    .dataframe tbody tr th {\n",
       "        vertical-align: top;\n",
       "    }\n",
       "\n",
       "    .dataframe thead th {\n",
       "        text-align: right;\n",
       "    }\n",
       "</style>\n",
       "<table border=\"1\" class=\"dataframe\">\n",
       "  <thead>\n",
       "    <tr style=\"text-align: right;\">\n",
       "      <th></th>\n",
       "      <th>num_rentals_june</th>\n",
       "      <th>num_rentals_july</th>\n",
       "    </tr>\n",
       "  </thead>\n",
       "  <tbody>\n",
       "    <tr>\n",
       "      <th>0</th>\n",
       "      <td>0.571429</td>\n",
       "      <td>0.800000</td>\n",
       "    </tr>\n",
       "    <tr>\n",
       "      <th>1</th>\n",
       "      <td>0.142857</td>\n",
       "      <td>0.266667</td>\n",
       "    </tr>\n",
       "    <tr>\n",
       "      <th>2</th>\n",
       "      <td>0.142857</td>\n",
       "      <td>0.200000</td>\n",
       "    </tr>\n",
       "    <tr>\n",
       "      <th>3</th>\n",
       "      <td>0.428571</td>\n",
       "      <td>0.600000</td>\n",
       "    </tr>\n",
       "    <tr>\n",
       "      <th>4</th>\n",
       "      <td>0.714286</td>\n",
       "      <td>0.866667</td>\n",
       "    </tr>\n",
       "  </tbody>\n",
       "</table>\n",
       "</div>"
      ],
      "text/plain": [
       "   num_rentals_june  num_rentals_july\n",
       "0          0.571429          0.800000\n",
       "1          0.142857          0.266667\n",
       "2          0.142857          0.200000\n",
       "3          0.428571          0.600000\n",
       "4          0.714286          0.866667"
      ]
     },
     "execution_count": 21,
     "metadata": {},
     "output_type": "execute_result"
    }
   ],
   "source": [
    "# Selecting numerical data from test sampe\n",
    "X_test_num = X_test.select_dtypes(include = np.number)\n",
    "\n",
    "# Applying MinMaxScaler transformer\n",
    "X_test_normalized = transformer.transform(X_test_num)\n",
    "X_test_norm = pd.DataFrame(X_test_normalized, columns = X_test_num.columns)\n",
    "X_test_norm.head()"
   ]
  },
  {
   "cell_type": "markdown",
   "id": "01b6f212",
   "metadata": {},
   "source": [
    "Now let's handle categorical data"
   ]
  },
  {
   "cell_type": "code",
   "execution_count": 22,
   "id": "98d30eee",
   "metadata": {
    "scrolled": true
   },
   "outputs": [
    {
     "name": "stderr",
     "output_type": "stream",
     "text": [
      "C:\\Users\\ameli\\anaconda3\\lib\\site-packages\\pandas\\core\\algorithms.py:798: FutureWarning: In a future version, the Index constructor will not infer numeric dtypes when passed object-dtype sequences (matching Series behavior)\n",
      "  uniques = Index(uniques)\n"
     ]
    },
    {
     "data": {
      "text/html": [
       "<div>\n",
       "<style scoped>\n",
       "    .dataframe tbody tr th:only-of-type {\n",
       "        vertical-align: middle;\n",
       "    }\n",
       "\n",
       "    .dataframe tbody tr th {\n",
       "        vertical-align: top;\n",
       "    }\n",
       "\n",
       "    .dataframe thead th {\n",
       "        text-align: right;\n",
       "    }\n",
       "</style>\n",
       "<table border=\"1\" class=\"dataframe\">\n",
       "  <thead>\n",
       "    <tr style=\"text-align: right;\">\n",
       "      <th></th>\n",
       "      <th>rental_price_2.99</th>\n",
       "      <th>rental_price_4.99</th>\n",
       "      <th>film_category_Animation</th>\n",
       "      <th>film_category_Children</th>\n",
       "      <th>film_category_Classics</th>\n",
       "      <th>film_category_Comedy</th>\n",
       "      <th>film_category_Documentary</th>\n",
       "      <th>film_category_Drama</th>\n",
       "      <th>film_category_Family</th>\n",
       "      <th>film_category_Foreign</th>\n",
       "      <th>film_category_Games</th>\n",
       "      <th>film_category_Horror</th>\n",
       "      <th>film_category_Music</th>\n",
       "      <th>film_category_New</th>\n",
       "      <th>film_category_Sci-Fi</th>\n",
       "      <th>film_category_Sports</th>\n",
       "      <th>film_category_Travel</th>\n",
       "    </tr>\n",
       "  </thead>\n",
       "  <tbody>\n",
       "    <tr>\n",
       "      <th>228</th>\n",
       "      <td>0</td>\n",
       "      <td>0</td>\n",
       "      <td>1</td>\n",
       "      <td>0</td>\n",
       "      <td>0</td>\n",
       "      <td>0</td>\n",
       "      <td>0</td>\n",
       "      <td>0</td>\n",
       "      <td>0</td>\n",
       "      <td>0</td>\n",
       "      <td>0</td>\n",
       "      <td>0</td>\n",
       "      <td>0</td>\n",
       "      <td>0</td>\n",
       "      <td>0</td>\n",
       "      <td>0</td>\n",
       "      <td>0</td>\n",
       "    </tr>\n",
       "    <tr>\n",
       "      <th>319</th>\n",
       "      <td>0</td>\n",
       "      <td>0</td>\n",
       "      <td>0</td>\n",
       "      <td>0</td>\n",
       "      <td>0</td>\n",
       "      <td>0</td>\n",
       "      <td>0</td>\n",
       "      <td>0</td>\n",
       "      <td>0</td>\n",
       "      <td>0</td>\n",
       "      <td>0</td>\n",
       "      <td>0</td>\n",
       "      <td>0</td>\n",
       "      <td>0</td>\n",
       "      <td>0</td>\n",
       "      <td>0</td>\n",
       "      <td>1</td>\n",
       "    </tr>\n",
       "    <tr>\n",
       "      <th>715</th>\n",
       "      <td>0</td>\n",
       "      <td>1</td>\n",
       "      <td>0</td>\n",
       "      <td>0</td>\n",
       "      <td>0</td>\n",
       "      <td>0</td>\n",
       "      <td>0</td>\n",
       "      <td>0</td>\n",
       "      <td>0</td>\n",
       "      <td>0</td>\n",
       "      <td>0</td>\n",
       "      <td>1</td>\n",
       "      <td>0</td>\n",
       "      <td>0</td>\n",
       "      <td>0</td>\n",
       "      <td>0</td>\n",
       "      <td>0</td>\n",
       "    </tr>\n",
       "    <tr>\n",
       "      <th>212</th>\n",
       "      <td>0</td>\n",
       "      <td>1</td>\n",
       "      <td>0</td>\n",
       "      <td>0</td>\n",
       "      <td>0</td>\n",
       "      <td>0</td>\n",
       "      <td>0</td>\n",
       "      <td>0</td>\n",
       "      <td>0</td>\n",
       "      <td>0</td>\n",
       "      <td>0</td>\n",
       "      <td>0</td>\n",
       "      <td>0</td>\n",
       "      <td>0</td>\n",
       "      <td>0</td>\n",
       "      <td>0</td>\n",
       "      <td>0</td>\n",
       "    </tr>\n",
       "    <tr>\n",
       "      <th>79</th>\n",
       "      <td>0</td>\n",
       "      <td>0</td>\n",
       "      <td>0</td>\n",
       "      <td>0</td>\n",
       "      <td>0</td>\n",
       "      <td>0</td>\n",
       "      <td>1</td>\n",
       "      <td>0</td>\n",
       "      <td>0</td>\n",
       "      <td>0</td>\n",
       "      <td>0</td>\n",
       "      <td>0</td>\n",
       "      <td>0</td>\n",
       "      <td>0</td>\n",
       "      <td>0</td>\n",
       "      <td>0</td>\n",
       "      <td>0</td>\n",
       "    </tr>\n",
       "  </tbody>\n",
       "</table>\n",
       "</div>"
      ],
      "text/plain": [
       "     rental_price_2.99  rental_price_4.99  film_category_Animation  \\\n",
       "228                  0                  0                        1   \n",
       "319                  0                  0                        0   \n",
       "715                  0                  1                        0   \n",
       "212                  0                  1                        0   \n",
       "79                   0                  0                        0   \n",
       "\n",
       "     film_category_Children  film_category_Classics  film_category_Comedy  \\\n",
       "228                       0                       0                     0   \n",
       "319                       0                       0                     0   \n",
       "715                       0                       0                     0   \n",
       "212                       0                       0                     0   \n",
       "79                        0                       0                     0   \n",
       "\n",
       "     film_category_Documentary  film_category_Drama  film_category_Family  \\\n",
       "228                          0                    0                     0   \n",
       "319                          0                    0                     0   \n",
       "715                          0                    0                     0   \n",
       "212                          0                    0                     0   \n",
       "79                           1                    0                     0   \n",
       "\n",
       "     film_category_Foreign  film_category_Games  film_category_Horror  \\\n",
       "228                      0                    0                     0   \n",
       "319                      0                    0                     0   \n",
       "715                      0                    0                     1   \n",
       "212                      0                    0                     0   \n",
       "79                       0                    0                     0   \n",
       "\n",
       "     film_category_Music  film_category_New  film_category_Sci-Fi  \\\n",
       "228                    0                  0                     0   \n",
       "319                    0                  0                     0   \n",
       "715                    0                  0                     0   \n",
       "212                    0                  0                     0   \n",
       "79                     0                  0                     0   \n",
       "\n",
       "     film_category_Sports  film_category_Travel  \n",
       "228                     0                     0  \n",
       "319                     0                     1  \n",
       "715                     0                     0  \n",
       "212                     0                     0  \n",
       "79                      0                     0  "
      ]
     },
     "execution_count": 22,
     "metadata": {},
     "output_type": "execute_result"
    }
   ],
   "source": [
    "#Selecting categorical data from train sample\n",
    "X_train_categorical = X_train.select_dtypes(include = 'object')\n",
    "\n",
    "# Encoding categorical data\n",
    "X_train_cat = pd.get_dummies(X_train_categorical, \n",
    "                             columns=['rental_price', 'film_category'],\n",
    "                             drop_first=True)\n",
    "X_train_cat.head()"
   ]
  },
  {
   "cell_type": "code",
   "execution_count": 23,
   "id": "29d91f04",
   "metadata": {},
   "outputs": [
    {
     "name": "stderr",
     "output_type": "stream",
     "text": [
      "C:\\Users\\ameli\\anaconda3\\lib\\site-packages\\pandas\\core\\algorithms.py:798: FutureWarning: In a future version, the Index constructor will not infer numeric dtypes when passed object-dtype sequences (matching Series behavior)\n",
      "  uniques = Index(uniques)\n"
     ]
    },
    {
     "data": {
      "text/html": [
       "<div>\n",
       "<style scoped>\n",
       "    .dataframe tbody tr th:only-of-type {\n",
       "        vertical-align: middle;\n",
       "    }\n",
       "\n",
       "    .dataframe tbody tr th {\n",
       "        vertical-align: top;\n",
       "    }\n",
       "\n",
       "    .dataframe thead th {\n",
       "        text-align: right;\n",
       "    }\n",
       "</style>\n",
       "<table border=\"1\" class=\"dataframe\">\n",
       "  <thead>\n",
       "    <tr style=\"text-align: right;\">\n",
       "      <th></th>\n",
       "      <th>rental_price_2.99</th>\n",
       "      <th>rental_price_4.99</th>\n",
       "      <th>film_category_Animation</th>\n",
       "      <th>film_category_Children</th>\n",
       "      <th>film_category_Classics</th>\n",
       "      <th>film_category_Comedy</th>\n",
       "      <th>film_category_Documentary</th>\n",
       "      <th>film_category_Drama</th>\n",
       "      <th>film_category_Family</th>\n",
       "      <th>film_category_Foreign</th>\n",
       "      <th>film_category_Games</th>\n",
       "      <th>film_category_Horror</th>\n",
       "      <th>film_category_Music</th>\n",
       "      <th>film_category_New</th>\n",
       "      <th>film_category_Sci-Fi</th>\n",
       "      <th>film_category_Sports</th>\n",
       "      <th>film_category_Travel</th>\n",
       "    </tr>\n",
       "  </thead>\n",
       "  <tbody>\n",
       "    <tr>\n",
       "      <th>836</th>\n",
       "      <td>0</td>\n",
       "      <td>0</td>\n",
       "      <td>0</td>\n",
       "      <td>1</td>\n",
       "      <td>0</td>\n",
       "      <td>0</td>\n",
       "      <td>0</td>\n",
       "      <td>0</td>\n",
       "      <td>0</td>\n",
       "      <td>0</td>\n",
       "      <td>0</td>\n",
       "      <td>0</td>\n",
       "      <td>0</td>\n",
       "      <td>0</td>\n",
       "      <td>0</td>\n",
       "      <td>0</td>\n",
       "      <td>0</td>\n",
       "    </tr>\n",
       "    <tr>\n",
       "      <th>477</th>\n",
       "      <td>1</td>\n",
       "      <td>0</td>\n",
       "      <td>0</td>\n",
       "      <td>0</td>\n",
       "      <td>0</td>\n",
       "      <td>0</td>\n",
       "      <td>0</td>\n",
       "      <td>0</td>\n",
       "      <td>0</td>\n",
       "      <td>0</td>\n",
       "      <td>0</td>\n",
       "      <td>0</td>\n",
       "      <td>0</td>\n",
       "      <td>0</td>\n",
       "      <td>0</td>\n",
       "      <td>1</td>\n",
       "      <td>0</td>\n",
       "    </tr>\n",
       "    <tr>\n",
       "      <th>350</th>\n",
       "      <td>0</td>\n",
       "      <td>1</td>\n",
       "      <td>0</td>\n",
       "      <td>0</td>\n",
       "      <td>0</td>\n",
       "      <td>0</td>\n",
       "      <td>0</td>\n",
       "      <td>0</td>\n",
       "      <td>0</td>\n",
       "      <td>0</td>\n",
       "      <td>0</td>\n",
       "      <td>0</td>\n",
       "      <td>0</td>\n",
       "      <td>0</td>\n",
       "      <td>0</td>\n",
       "      <td>0</td>\n",
       "      <td>0</td>\n",
       "    </tr>\n",
       "    <tr>\n",
       "      <th>891</th>\n",
       "      <td>1</td>\n",
       "      <td>0</td>\n",
       "      <td>0</td>\n",
       "      <td>0</td>\n",
       "      <td>0</td>\n",
       "      <td>0</td>\n",
       "      <td>0</td>\n",
       "      <td>0</td>\n",
       "      <td>0</td>\n",
       "      <td>0</td>\n",
       "      <td>0</td>\n",
       "      <td>0</td>\n",
       "      <td>0</td>\n",
       "      <td>0</td>\n",
       "      <td>1</td>\n",
       "      <td>0</td>\n",
       "      <td>0</td>\n",
       "    </tr>\n",
       "    <tr>\n",
       "      <th>855</th>\n",
       "      <td>0</td>\n",
       "      <td>1</td>\n",
       "      <td>0</td>\n",
       "      <td>0</td>\n",
       "      <td>0</td>\n",
       "      <td>0</td>\n",
       "      <td>0</td>\n",
       "      <td>0</td>\n",
       "      <td>0</td>\n",
       "      <td>0</td>\n",
       "      <td>0</td>\n",
       "      <td>0</td>\n",
       "      <td>0</td>\n",
       "      <td>0</td>\n",
       "      <td>1</td>\n",
       "      <td>0</td>\n",
       "      <td>0</td>\n",
       "    </tr>\n",
       "  </tbody>\n",
       "</table>\n",
       "</div>"
      ],
      "text/plain": [
       "     rental_price_2.99  rental_price_4.99  film_category_Animation  \\\n",
       "836                  0                  0                        0   \n",
       "477                  1                  0                        0   \n",
       "350                  0                  1                        0   \n",
       "891                  1                  0                        0   \n",
       "855                  0                  1                        0   \n",
       "\n",
       "     film_category_Children  film_category_Classics  film_category_Comedy  \\\n",
       "836                       1                       0                     0   \n",
       "477                       0                       0                     0   \n",
       "350                       0                       0                     0   \n",
       "891                       0                       0                     0   \n",
       "855                       0                       0                     0   \n",
       "\n",
       "     film_category_Documentary  film_category_Drama  film_category_Family  \\\n",
       "836                          0                    0                     0   \n",
       "477                          0                    0                     0   \n",
       "350                          0                    0                     0   \n",
       "891                          0                    0                     0   \n",
       "855                          0                    0                     0   \n",
       "\n",
       "     film_category_Foreign  film_category_Games  film_category_Horror  \\\n",
       "836                      0                    0                     0   \n",
       "477                      0                    0                     0   \n",
       "350                      0                    0                     0   \n",
       "891                      0                    0                     0   \n",
       "855                      0                    0                     0   \n",
       "\n",
       "     film_category_Music  film_category_New  film_category_Sci-Fi  \\\n",
       "836                    0                  0                     0   \n",
       "477                    0                  0                     0   \n",
       "350                    0                  0                     0   \n",
       "891                    0                  0                     1   \n",
       "855                    0                  0                     1   \n",
       "\n",
       "     film_category_Sports  film_category_Travel  \n",
       "836                     0                     0  \n",
       "477                     1                     0  \n",
       "350                     0                     0  \n",
       "891                     0                     0  \n",
       "855                     0                     0  "
      ]
     },
     "execution_count": 23,
     "metadata": {},
     "output_type": "execute_result"
    }
   ],
   "source": [
    "#Selecting categorical data from test sample\n",
    "X_test_categorical = X_test.select_dtypes(include = 'object')\n",
    "\n",
    "# Encoding categorical data\n",
    "X_test_cat = pd.get_dummies(X_test_categorical, \n",
    "                             columns=['rental_price', 'film_category'],\n",
    "                             drop_first=True)\n",
    "X_test_cat.head()"
   ]
  },
  {
   "cell_type": "code",
   "execution_count": 24,
   "id": "c9668b41",
   "metadata": {},
   "outputs": [
    {
     "data": {
      "text/plain": [
       "array([[0.57142857, 0.6       , 0.        , ..., 0.        , 0.        ,\n",
       "        0.        ],\n",
       "       [0.14285714, 0.13333333, 0.        , ..., 0.        , 0.        ,\n",
       "        1.        ],\n",
       "       [0.42857143, 0.33333333, 0.        , ..., 0.        , 0.        ,\n",
       "        0.        ],\n",
       "       ...,\n",
       "       [0.57142857, 0.6       , 0.        , ..., 0.        , 1.        ,\n",
       "        0.        ],\n",
       "       [0.        , 0.13333333, 0.        , ..., 0.        , 0.        ,\n",
       "        0.        ],\n",
       "       [0.28571429, 0.46666667, 0.        , ..., 0.        , 0.        ,\n",
       "        0.        ]])"
      ]
     },
     "execution_count": 24,
     "metadata": {},
     "output_type": "execute_result"
    }
   ],
   "source": [
    "X_train_transformed = np.concatenate([X_train_norm, X_train_cat], axis=1)\n",
    "X_train_transformed"
   ]
  },
  {
   "cell_type": "code",
   "execution_count": 25,
   "id": "69c6e191",
   "metadata": {
    "scrolled": true
   },
   "outputs": [
    {
     "data": {
      "text/plain": [
       "array([[0.57142857, 0.8       , 0.        , ..., 0.        , 0.        ,\n",
       "        0.        ],\n",
       "       [0.14285714, 0.26666667, 1.        , ..., 0.        , 1.        ,\n",
       "        0.        ],\n",
       "       [0.14285714, 0.2       , 0.        , ..., 0.        , 0.        ,\n",
       "        0.        ],\n",
       "       ...,\n",
       "       [0.14285714, 0.2       , 0.        , ..., 0.        , 0.        ,\n",
       "        0.        ],\n",
       "       [0.28571429, 0.4       , 0.        , ..., 0.        , 1.        ,\n",
       "        0.        ],\n",
       "       [0.71428571, 0.6       , 0.        , ..., 0.        , 0.        ,\n",
       "        0.        ]])"
      ]
     },
     "execution_count": 25,
     "metadata": {},
     "output_type": "execute_result"
    }
   ],
   "source": [
    "X_test_transformed = np.concatenate([X_test_norm, X_test_cat], axis=1)\n",
    "X_test_transformed"
   ]
  },
  {
   "cell_type": "markdown",
   "id": "5ee7e5f4",
   "metadata": {},
   "source": [
    "*Now we'll fit the logistic regression model on train set and apply it to test set.*"
   ]
  },
  {
   "cell_type": "code",
   "execution_count": 26,
   "id": "37b7c50e",
   "metadata": {},
   "outputs": [],
   "source": [
    "classification = LogisticRegression(random_state=0, solver='lbfgs',\n",
    "                  multi_class='auto').fit(X_train_transformed, y_train)\n",
    "\n",
    "y_test_pred = classification.predict(X_test_transformed)"
   ]
  },
  {
   "cell_type": "code",
   "execution_count": 27,
   "id": "eb22cbf2",
   "metadata": {},
   "outputs": [
    {
     "name": "stdout",
     "output_type": "stream",
     "text": [
      "Classification score: 0.9965277777777778\n",
      "Predicted values on test / Count: ['Yes'] [288]\n"
     ]
    }
   ],
   "source": [
    "print('Classification score:', classification.score(X_test_transformed, y_test))\n",
    "predicted_values_unique, num = np.unique(y_test_pred, return_counts = True)\n",
    "print('Predicted values on test / Count:', predicted_values_unique, num)"
   ]
  },
  {
   "cell_type": "markdown",
   "id": "3f0cb741",
   "metadata": {},
   "source": [
    "#### 7. Evaluate the results."
   ]
  },
  {
   "cell_type": "code",
   "execution_count": 28,
   "id": "35f8be87",
   "metadata": {},
   "outputs": [
    {
     "name": "stdout",
     "output_type": "stream",
     "text": [
      "The accuracy is: 1.00\n",
      "The precision is: 1.00\n",
      "The recall is: 1.00\n",
      "The F1 is: 1.00\n",
      "The Kappa is: 0.00\n"
     ]
    }
   ],
   "source": [
    "print(\"The accuracy is: {:.2f}\".format(accuracy_score(y_test,y_test_pred)))\n",
    "print(\"The precision is: {:.2f}\".format(precision_score(y_test,y_test_pred, pos_label = 'Yes')))\n",
    "print(\"The recall is: {:.2f}\".format(recall_score(y_test,y_test_pred, pos_label = 'Yes')))\n",
    "print(\"The F1 is: {:.2f}\".format(f1_score(y_test,y_test_pred, pos_label = 'Yes')))\n",
    "print(\"The Kappa is: {:.2f}\".format(cohen_kappa_score(y_test,y_test_pred)))"
   ]
  },
  {
   "cell_type": "code",
   "execution_count": 29,
   "id": "fd1ac580",
   "metadata": {},
   "outputs": [
    {
     "name": "stderr",
     "output_type": "stream",
     "text": [
      "C:\\Users\\ameli\\anaconda3\\lib\\site-packages\\seaborn\\_decorators.py:36: FutureWarning: Pass the following variable as a keyword arg: x. From version 0.12, the only valid positional argument will be `data`, and passing other arguments without an explicit keyword will result in an error or misinterpretation.\n",
      "  warnings.warn(\n"
     ]
    },
    {
     "name": "stdout",
     "output_type": "stream",
     "text": [
      "Yes    287\n",
      "No       1\n",
      "Name: more_rentals_in_july, dtype: int64\n"
     ]
    },
    {
     "data": {
      "image/png": "[encoded data removed]",
      "text/plain": [
       "<Figure size 432x288 with 1 Axes>"
      ]
     },
     "metadata": {
      "needs_background": "light"
     },
     "output_type": "display_data"
    }
   ],
   "source": [
    "print(y_test.value_counts())\n",
    "sns.countplot(y_test)\n",
    "plt.show()"
   ]
  },
  {
   "cell_type": "code",
   "execution_count": 30,
   "id": "cfbbb1f3",
   "metadata": {},
   "outputs": [
    {
     "name": "stderr",
     "output_type": "stream",
     "text": [
      "C:\\Users\\ameli\\anaconda3\\lib\\site-packages\\seaborn\\_decorators.py:36: FutureWarning: Pass the following variable as a keyword arg: x. From version 0.12, the only valid positional argument will be `data`, and passing other arguments without an explicit keyword will result in an error or misinterpretation.\n",
      "  warnings.warn(\n"
     ]
    },
    {
     "data": {
      "image/png": "[encoded data removed]",
      "text/plain": [
       "<Figure size 432x288 with 1 Axes>"
      ]
     },
     "metadata": {
      "needs_background": "light"
     },
     "output_type": "display_data"
    }
   ],
   "source": [
    "pd.Series(y_test_pred).value_counts()\n",
    "sns.countplot(y_test_pred)\n",
    "plt.show()"
   ]
  },
  {
   "cell_type": "code",
   "execution_count": 31,
   "id": "7c3e89e8",
   "metadata": {},
   "outputs": [
    {
     "data": {
      "text/plain": [
       "array([[  0,   1],\n",
       "       [  0, 287]], dtype=int64)"
      ]
     },
     "execution_count": 31,
     "metadata": {},
     "output_type": "execute_result"
    }
   ],
   "source": [
    "confusion_matrix(y_test, y_test_pred)"
   ]
  },
  {
   "cell_type": "code",
   "execution_count": 32,
   "id": "7e27050d",
   "metadata": {},
   "outputs": [
    {
     "data": {
      "image/png": "[encoded data removed]",
      "text/plain": [
       "<Figure size 432x288 with 2 Axes>"
      ]
     },
     "metadata": {
      "needs_background": "light"
     },
     "output_type": "display_data"
    }
   ],
   "source": [
    "cm_test = confusion_matrix(y_test, y_test_pred)\n",
    "\n",
    "disp = ConfusionMatrixDisplay(cm_test, display_labels =  classification.classes_)\n",
    "disp.plot()\n",
    "plt.show()"
   ]
  },
  {
   "cell_type": "markdown",
   "id": "3c23aab2",
   "metadata": {},
   "source": [
    "*The results we're seeing indicate that the model is predicting almost perfectly the labels of our predictor. However, these metrics are tricky: due to the huge class imbalance, our model is only good at predicting 'Yes' labels (in fact, there's only one False Positive). Our Kappa Score is 0: there is random agreement between the predicted label and true labels.*"
   ]
  }
 ],
 "metadata": {
  "kernelspec": {
   "display_name": "Python 3 (ipykernel)",
   "language": "python",
   "name": "python3"
  },
  "language_info": {
   "codemirror_mode": {
    "name": "ipython",
    "version": 3
   },
   "file_extension": ".py",
   "mimetype": "text/x-python",
   "name": "python",
   "nbconvert_exporter": "python",
   "pygments_lexer": "ipython3",
   "version": "3.9.12"
  }
 },
 "nbformat": 4,
 "nbformat_minor": 5
}
